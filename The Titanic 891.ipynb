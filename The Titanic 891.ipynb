{
 "cells": [
  {
   "cell_type": "markdown",
   "id": "fa87a003",
   "metadata": {},
   "source": [
    "# Exploring the titanic 891   dataset\n",
    "\n",
    "## Summary Statistics"
   ]
  },
  {
   "cell_type": "markdown",
   "id": "65ba2f58",
   "metadata": {},
   "source": [
    "The dataset used for this project was downloaded from https://github.com/datasciencedojo/datasets/blob/master/titanic.csv\n",
    "\n"
   ]
  },
  {
   "cell_type": "code",
   "execution_count": 6,
   "id": "c22ba2f0",
   "metadata": {},
   "outputs": [],
   "source": [
    "#import packages\n",
    "%matplotlib inline\n",
    "import numpy as np\n",
    "import pandas as pd\n",
    "import seaborn as sns\n",
    "import matplotlib.pyplot as plt"
   ]
  },
  {
   "cell_type": "code",
   "execution_count": 7,
   "id": "1c083604",
   "metadata": {},
   "outputs": [],
   "source": [
    "#import data\n",
    "df1=pd.read_csv('titanic2.csv')"
   ]
  },
  {
   "cell_type": "code",
   "execution_count": 8,
   "id": "aab375ec",
   "metadata": {},
   "outputs": [
    {
     "data": {
      "text/plain": [
       "(891, 12)"
      ]
     },
     "execution_count": 8,
     "metadata": {},
     "output_type": "execute_result"
    }
   ],
   "source": [
    "#check data dimension\n",
    "df1.shape"
   ]
  },
  {
   "cell_type": "markdown",
   "id": "20bdd966",
   "metadata": {},
   "source": [
    "The results shows that the data has 12 columns and 891 rows"
   ]
  },
  {
   "cell_type": "code",
   "execution_count": 9,
   "id": "aab83e42",
   "metadata": {},
   "outputs": [],
   "source": [
    "#df.info"
   ]
  },
  {
   "cell_type": "code",
   "execution_count": 10,
   "id": "6dd43388",
   "metadata": {
    "scrolled": true
   },
   "outputs": [
    {
     "data": {
      "text/html": [
       "<div>\n",
       "<style scoped>\n",
       "    .dataframe tbody tr th:only-of-type {\n",
       "        vertical-align: middle;\n",
       "    }\n",
       "\n",
       "    .dataframe tbody tr th {\n",
       "        vertical-align: top;\n",
       "    }\n",
       "\n",
       "    .dataframe thead th {\n",
       "        text-align: right;\n",
       "    }\n",
       "</style>\n",
       "<table border=\"1\" class=\"dataframe\">\n",
       "  <thead>\n",
       "    <tr style=\"text-align: right;\">\n",
       "      <th></th>\n",
       "      <th>PassengerId</th>\n",
       "      <th>Survived</th>\n",
       "      <th>Pclass</th>\n",
       "      <th>Name</th>\n",
       "      <th>Sex</th>\n",
       "      <th>Age</th>\n",
       "      <th>SibSp</th>\n",
       "      <th>Parch</th>\n",
       "      <th>Ticket</th>\n",
       "      <th>Fare</th>\n",
       "      <th>Cabin</th>\n",
       "      <th>Embarked</th>\n",
       "    </tr>\n",
       "  </thead>\n",
       "  <tbody>\n",
       "    <tr>\n",
       "      <th>0</th>\n",
       "      <td>1</td>\n",
       "      <td>0</td>\n",
       "      <td>3</td>\n",
       "      <td>Braund, Mr. Owen Harris</td>\n",
       "      <td>male</td>\n",
       "      <td>22.0</td>\n",
       "      <td>1</td>\n",
       "      <td>0</td>\n",
       "      <td>A/5 21171</td>\n",
       "      <td>7.2500</td>\n",
       "      <td>NaN</td>\n",
       "      <td>S</td>\n",
       "    </tr>\n",
       "    <tr>\n",
       "      <th>1</th>\n",
       "      <td>2</td>\n",
       "      <td>1</td>\n",
       "      <td>1</td>\n",
       "      <td>Cumings, Mrs. John Bradley (Florence Briggs Th...</td>\n",
       "      <td>female</td>\n",
       "      <td>38.0</td>\n",
       "      <td>1</td>\n",
       "      <td>0</td>\n",
       "      <td>PC 17599</td>\n",
       "      <td>71.2833</td>\n",
       "      <td>C85</td>\n",
       "      <td>C</td>\n",
       "    </tr>\n",
       "    <tr>\n",
       "      <th>2</th>\n",
       "      <td>3</td>\n",
       "      <td>1</td>\n",
       "      <td>3</td>\n",
       "      <td>Heikkinen, Miss. Laina</td>\n",
       "      <td>female</td>\n",
       "      <td>26.0</td>\n",
       "      <td>0</td>\n",
       "      <td>0</td>\n",
       "      <td>STON/O2. 3101282</td>\n",
       "      <td>7.9250</td>\n",
       "      <td>NaN</td>\n",
       "      <td>S</td>\n",
       "    </tr>\n",
       "    <tr>\n",
       "      <th>3</th>\n",
       "      <td>4</td>\n",
       "      <td>1</td>\n",
       "      <td>1</td>\n",
       "      <td>Futrelle, Mrs. Jacques Heath (Lily May Peel)</td>\n",
       "      <td>female</td>\n",
       "      <td>35.0</td>\n",
       "      <td>1</td>\n",
       "      <td>0</td>\n",
       "      <td>113803</td>\n",
       "      <td>53.1000</td>\n",
       "      <td>C123</td>\n",
       "      <td>S</td>\n",
       "    </tr>\n",
       "    <tr>\n",
       "      <th>4</th>\n",
       "      <td>5</td>\n",
       "      <td>0</td>\n",
       "      <td>3</td>\n",
       "      <td>Allen, Mr. William Henry</td>\n",
       "      <td>male</td>\n",
       "      <td>35.0</td>\n",
       "      <td>0</td>\n",
       "      <td>0</td>\n",
       "      <td>373450</td>\n",
       "      <td>8.0500</td>\n",
       "      <td>NaN</td>\n",
       "      <td>S</td>\n",
       "    </tr>\n",
       "  </tbody>\n",
       "</table>\n",
       "</div>"
      ],
      "text/plain": [
       "   PassengerId  Survived  Pclass  \\\n",
       "0            1         0       3   \n",
       "1            2         1       1   \n",
       "2            3         1       3   \n",
       "3            4         1       1   \n",
       "4            5         0       3   \n",
       "\n",
       "                                                Name     Sex   Age  SibSp  \\\n",
       "0                            Braund, Mr. Owen Harris    male  22.0      1   \n",
       "1  Cumings, Mrs. John Bradley (Florence Briggs Th...  female  38.0      1   \n",
       "2                             Heikkinen, Miss. Laina  female  26.0      0   \n",
       "3       Futrelle, Mrs. Jacques Heath (Lily May Peel)  female  35.0      1   \n",
       "4                           Allen, Mr. William Henry    male  35.0      0   \n",
       "\n",
       "   Parch            Ticket     Fare Cabin Embarked  \n",
       "0      0         A/5 21171   7.2500   NaN        S  \n",
       "1      0          PC 17599  71.2833   C85        C  \n",
       "2      0  STON/O2. 3101282   7.9250   NaN        S  \n",
       "3      0            113803  53.1000  C123        S  \n",
       "4      0            373450   8.0500   NaN        S  "
      ]
     },
     "execution_count": 10,
     "metadata": {},
     "output_type": "execute_result"
    }
   ],
   "source": [
    "#check the first 5 rows of the data\n",
    "df1.head(5)"
   ]
  },
  {
   "cell_type": "code",
   "execution_count": 11,
   "id": "5f910304",
   "metadata": {},
   "outputs": [
    {
     "data": {
      "text/html": [
       "<div>\n",
       "<style scoped>\n",
       "    .dataframe tbody tr th:only-of-type {\n",
       "        vertical-align: middle;\n",
       "    }\n",
       "\n",
       "    .dataframe tbody tr th {\n",
       "        vertical-align: top;\n",
       "    }\n",
       "\n",
       "    .dataframe thead th {\n",
       "        text-align: right;\n",
       "    }\n",
       "</style>\n",
       "<table border=\"1\" class=\"dataframe\">\n",
       "  <thead>\n",
       "    <tr style=\"text-align: right;\">\n",
       "      <th></th>\n",
       "      <th>PassengerId</th>\n",
       "      <th>Survived</th>\n",
       "      <th>Pclass</th>\n",
       "      <th>Name</th>\n",
       "      <th>Sex</th>\n",
       "      <th>Age</th>\n",
       "      <th>SibSp</th>\n",
       "      <th>Parch</th>\n",
       "      <th>Ticket</th>\n",
       "      <th>Fare</th>\n",
       "      <th>Cabin</th>\n",
       "      <th>Embarked</th>\n",
       "    </tr>\n",
       "  </thead>\n",
       "  <tbody>\n",
       "    <tr>\n",
       "      <th>886</th>\n",
       "      <td>887</td>\n",
       "      <td>0</td>\n",
       "      <td>2</td>\n",
       "      <td>Montvila, Rev. Juozas</td>\n",
       "      <td>male</td>\n",
       "      <td>27.0</td>\n",
       "      <td>0</td>\n",
       "      <td>0</td>\n",
       "      <td>211536</td>\n",
       "      <td>13.00</td>\n",
       "      <td>NaN</td>\n",
       "      <td>S</td>\n",
       "    </tr>\n",
       "    <tr>\n",
       "      <th>887</th>\n",
       "      <td>888</td>\n",
       "      <td>1</td>\n",
       "      <td>1</td>\n",
       "      <td>Graham, Miss. Margaret Edith</td>\n",
       "      <td>female</td>\n",
       "      <td>19.0</td>\n",
       "      <td>0</td>\n",
       "      <td>0</td>\n",
       "      <td>112053</td>\n",
       "      <td>30.00</td>\n",
       "      <td>B42</td>\n",
       "      <td>S</td>\n",
       "    </tr>\n",
       "    <tr>\n",
       "      <th>888</th>\n",
       "      <td>889</td>\n",
       "      <td>0</td>\n",
       "      <td>3</td>\n",
       "      <td>Johnston, Miss. Catherine Helen \"Carrie\"</td>\n",
       "      <td>female</td>\n",
       "      <td>NaN</td>\n",
       "      <td>1</td>\n",
       "      <td>2</td>\n",
       "      <td>W./C. 6607</td>\n",
       "      <td>23.45</td>\n",
       "      <td>NaN</td>\n",
       "      <td>S</td>\n",
       "    </tr>\n",
       "    <tr>\n",
       "      <th>889</th>\n",
       "      <td>890</td>\n",
       "      <td>1</td>\n",
       "      <td>1</td>\n",
       "      <td>Behr, Mr. Karl Howell</td>\n",
       "      <td>male</td>\n",
       "      <td>26.0</td>\n",
       "      <td>0</td>\n",
       "      <td>0</td>\n",
       "      <td>111369</td>\n",
       "      <td>30.00</td>\n",
       "      <td>C148</td>\n",
       "      <td>C</td>\n",
       "    </tr>\n",
       "    <tr>\n",
       "      <th>890</th>\n",
       "      <td>891</td>\n",
       "      <td>0</td>\n",
       "      <td>3</td>\n",
       "      <td>Dooley, Mr. Patrick</td>\n",
       "      <td>male</td>\n",
       "      <td>32.0</td>\n",
       "      <td>0</td>\n",
       "      <td>0</td>\n",
       "      <td>370376</td>\n",
       "      <td>7.75</td>\n",
       "      <td>NaN</td>\n",
       "      <td>Q</td>\n",
       "    </tr>\n",
       "  </tbody>\n",
       "</table>\n",
       "</div>"
      ],
      "text/plain": [
       "     PassengerId  Survived  Pclass                                      Name  \\\n",
       "886          887         0       2                     Montvila, Rev. Juozas   \n",
       "887          888         1       1              Graham, Miss. Margaret Edith   \n",
       "888          889         0       3  Johnston, Miss. Catherine Helen \"Carrie\"   \n",
       "889          890         1       1                     Behr, Mr. Karl Howell   \n",
       "890          891         0       3                       Dooley, Mr. Patrick   \n",
       "\n",
       "        Sex   Age  SibSp  Parch      Ticket   Fare Cabin Embarked  \n",
       "886    male  27.0      0      0      211536  13.00   NaN        S  \n",
       "887  female  19.0      0      0      112053  30.00   B42        S  \n",
       "888  female   NaN      1      2  W./C. 6607  23.45   NaN        S  \n",
       "889    male  26.0      0      0      111369  30.00  C148        C  \n",
       "890    male  32.0      0      0      370376   7.75   NaN        Q  "
      ]
     },
     "execution_count": 11,
     "metadata": {},
     "output_type": "execute_result"
    }
   ],
   "source": [
    "#check the last 5 rows of the data\n",
    "df1.tail(5)"
   ]
  },
  {
   "cell_type": "code",
   "execution_count": 12,
   "id": "3a28e98e",
   "metadata": {},
   "outputs": [
    {
     "name": "stdout",
     "output_type": "stream",
     "text": [
      "Age         177\n",
      "Cabin       687\n",
      "Embarked      2\n",
      "dtype: int64\n"
     ]
    }
   ],
   "source": [
    "# Check for missing values\n",
    "missing_values = df1.isnull()\n",
    "\n",
    "# Count the number of missing values in each column\n",
    "missing_counts = missing_values.sum()\n",
    "\n",
    "# Print the columns with missing values and their respective counts\n",
    "print(missing_counts[missing_counts > 0])"
   ]
  },
  {
   "cell_type": "markdown",
   "id": "a247f566",
   "metadata": {},
   "source": [
    "The above output shows that the Age, Embarked and Cabin variables has NA values which can result in poor analysis."
   ]
  },
  {
   "cell_type": "code",
   "execution_count": 13,
   "id": "844a12e9",
   "metadata": {},
   "outputs": [],
   "source": [
    "#dropping the Cabin column\n",
    "df = df1.drop(columns=[\"Cabin\"])"
   ]
  },
  {
   "cell_type": "code",
   "execution_count": 14,
   "id": "f92bb439",
   "metadata": {},
   "outputs": [
    {
     "name": "stdout",
     "output_type": "stream",
     "text": [
      "Number of missing values in 'Age' after imputation: 0\n"
     ]
    }
   ],
   "source": [
    "#Replacing the missing ages with the mean\n",
    "df['Age'] = df['Age'].fillna(df['Age'].mean())\n",
    "\n",
    "# Now, 'Age' column has missing values imputed with the mean\n",
    "\n",
    "# Check if there are any remaining missing values\n",
    "missing_values_count = df['Age'].isnull().sum()\n",
    "print(f\"Number of missing values in 'Age' after imputation: {missing_values_count}\")\n"
   ]
  },
  {
   "cell_type": "code",
   "execution_count": 15,
   "id": "cffcf067",
   "metadata": {},
   "outputs": [
    {
     "name": "stdout",
     "output_type": "stream",
     "text": [
      "Embarked    2\n",
      "dtype: int64\n"
     ]
    }
   ],
   "source": [
    "# Check for missing values AGAIN\n",
    "missing_values1 = df.isnull()\n",
    "\n",
    "# Count the number of missing values in each column\n",
    "missing_counts1 = missing_values1.sum()\n",
    "\n",
    "# Print the columns with missing values and their respective counts\n",
    "print(missing_counts1[missing_counts1 > 0])"
   ]
  },
  {
   "cell_type": "code",
   "execution_count": 16,
   "id": "05a98ccd",
   "metadata": {},
   "outputs": [
    {
     "data": {
      "text/html": [
       "<div>\n",
       "<style scoped>\n",
       "    .dataframe tbody tr th:only-of-type {\n",
       "        vertical-align: middle;\n",
       "    }\n",
       "\n",
       "    .dataframe tbody tr th {\n",
       "        vertical-align: top;\n",
       "    }\n",
       "\n",
       "    .dataframe thead th {\n",
       "        text-align: right;\n",
       "    }\n",
       "</style>\n",
       "<table border=\"1\" class=\"dataframe\">\n",
       "  <thead>\n",
       "    <tr style=\"text-align: right;\">\n",
       "      <th></th>\n",
       "      <th>PassengerId</th>\n",
       "      <th>Survived</th>\n",
       "      <th>Pclass</th>\n",
       "      <th>Age</th>\n",
       "      <th>SibSp</th>\n",
       "      <th>Parch</th>\n",
       "      <th>Fare</th>\n",
       "    </tr>\n",
       "  </thead>\n",
       "  <tbody>\n",
       "    <tr>\n",
       "      <th>count</th>\n",
       "      <td>891.000000</td>\n",
       "      <td>891.000000</td>\n",
       "      <td>891.000000</td>\n",
       "      <td>891.000000</td>\n",
       "      <td>891.000000</td>\n",
       "      <td>891.000000</td>\n",
       "      <td>891.000000</td>\n",
       "    </tr>\n",
       "    <tr>\n",
       "      <th>mean</th>\n",
       "      <td>446.000000</td>\n",
       "      <td>0.383838</td>\n",
       "      <td>2.308642</td>\n",
       "      <td>29.699118</td>\n",
       "      <td>0.523008</td>\n",
       "      <td>0.381594</td>\n",
       "      <td>32.204208</td>\n",
       "    </tr>\n",
       "    <tr>\n",
       "      <th>std</th>\n",
       "      <td>257.353842</td>\n",
       "      <td>0.486592</td>\n",
       "      <td>0.836071</td>\n",
       "      <td>13.002015</td>\n",
       "      <td>1.102743</td>\n",
       "      <td>0.806057</td>\n",
       "      <td>49.693429</td>\n",
       "    </tr>\n",
       "    <tr>\n",
       "      <th>min</th>\n",
       "      <td>1.000000</td>\n",
       "      <td>0.000000</td>\n",
       "      <td>1.000000</td>\n",
       "      <td>0.420000</td>\n",
       "      <td>0.000000</td>\n",
       "      <td>0.000000</td>\n",
       "      <td>0.000000</td>\n",
       "    </tr>\n",
       "    <tr>\n",
       "      <th>25%</th>\n",
       "      <td>223.500000</td>\n",
       "      <td>0.000000</td>\n",
       "      <td>2.000000</td>\n",
       "      <td>22.000000</td>\n",
       "      <td>0.000000</td>\n",
       "      <td>0.000000</td>\n",
       "      <td>7.910400</td>\n",
       "    </tr>\n",
       "    <tr>\n",
       "      <th>50%</th>\n",
       "      <td>446.000000</td>\n",
       "      <td>0.000000</td>\n",
       "      <td>3.000000</td>\n",
       "      <td>29.699118</td>\n",
       "      <td>0.000000</td>\n",
       "      <td>0.000000</td>\n",
       "      <td>14.454200</td>\n",
       "    </tr>\n",
       "    <tr>\n",
       "      <th>75%</th>\n",
       "      <td>668.500000</td>\n",
       "      <td>1.000000</td>\n",
       "      <td>3.000000</td>\n",
       "      <td>35.000000</td>\n",
       "      <td>1.000000</td>\n",
       "      <td>0.000000</td>\n",
       "      <td>31.000000</td>\n",
       "    </tr>\n",
       "    <tr>\n",
       "      <th>max</th>\n",
       "      <td>891.000000</td>\n",
       "      <td>1.000000</td>\n",
       "      <td>3.000000</td>\n",
       "      <td>80.000000</td>\n",
       "      <td>8.000000</td>\n",
       "      <td>6.000000</td>\n",
       "      <td>512.329200</td>\n",
       "    </tr>\n",
       "  </tbody>\n",
       "</table>\n",
       "</div>"
      ],
      "text/plain": [
       "       PassengerId    Survived      Pclass         Age       SibSp  \\\n",
       "count   891.000000  891.000000  891.000000  891.000000  891.000000   \n",
       "mean    446.000000    0.383838    2.308642   29.699118    0.523008   \n",
       "std     257.353842    0.486592    0.836071   13.002015    1.102743   \n",
       "min       1.000000    0.000000    1.000000    0.420000    0.000000   \n",
       "25%     223.500000    0.000000    2.000000   22.000000    0.000000   \n",
       "50%     446.000000    0.000000    3.000000   29.699118    0.000000   \n",
       "75%     668.500000    1.000000    3.000000   35.000000    1.000000   \n",
       "max     891.000000    1.000000    3.000000   80.000000    8.000000   \n",
       "\n",
       "            Parch        Fare  \n",
       "count  891.000000  891.000000  \n",
       "mean     0.381594   32.204208  \n",
       "std      0.806057   49.693429  \n",
       "min      0.000000    0.000000  \n",
       "25%      0.000000    7.910400  \n",
       "50%      0.000000   14.454200  \n",
       "75%      0.000000   31.000000  \n",
       "max      6.000000  512.329200  "
      ]
     },
     "execution_count": 16,
     "metadata": {},
     "output_type": "execute_result"
    }
   ],
   "source": [
    "#summary statistics to describe the distribution of the data\n",
    "df.describe()"
   ]
  },
  {
   "cell_type": "code",
   "execution_count": 17,
   "id": "48725e89",
   "metadata": {},
   "outputs": [
    {
     "name": "stdout",
     "output_type": "stream",
     "text": [
      "Index(['Name', 'Sex', 'Ticket', 'Embarked'], dtype='object')\n"
     ]
    },
    {
     "data": {
      "text/html": [
       "<div>\n",
       "<style scoped>\n",
       "    .dataframe tbody tr th:only-of-type {\n",
       "        vertical-align: middle;\n",
       "    }\n",
       "\n",
       "    .dataframe tbody tr th {\n",
       "        vertical-align: top;\n",
       "    }\n",
       "\n",
       "    .dataframe thead th {\n",
       "        text-align: right;\n",
       "    }\n",
       "</style>\n",
       "<table border=\"1\" class=\"dataframe\">\n",
       "  <thead>\n",
       "    <tr style=\"text-align: right;\">\n",
       "      <th></th>\n",
       "      <th>Name</th>\n",
       "      <th>Sex</th>\n",
       "      <th>Ticket</th>\n",
       "      <th>Embarked</th>\n",
       "    </tr>\n",
       "  </thead>\n",
       "  <tbody>\n",
       "    <tr>\n",
       "      <th>count</th>\n",
       "      <td>891</td>\n",
       "      <td>891</td>\n",
       "      <td>891</td>\n",
       "      <td>889</td>\n",
       "    </tr>\n",
       "    <tr>\n",
       "      <th>unique</th>\n",
       "      <td>891</td>\n",
       "      <td>2</td>\n",
       "      <td>681</td>\n",
       "      <td>3</td>\n",
       "    </tr>\n",
       "    <tr>\n",
       "      <th>top</th>\n",
       "      <td>Braund, Mr. Owen Harris</td>\n",
       "      <td>male</td>\n",
       "      <td>347082</td>\n",
       "      <td>S</td>\n",
       "    </tr>\n",
       "    <tr>\n",
       "      <th>freq</th>\n",
       "      <td>1</td>\n",
       "      <td>577</td>\n",
       "      <td>7</td>\n",
       "      <td>644</td>\n",
       "    </tr>\n",
       "  </tbody>\n",
       "</table>\n",
       "</div>"
      ],
      "text/plain": [
       "                           Name   Sex  Ticket Embarked\n",
       "count                       891   891     891      889\n",
       "unique                      891     2     681        3\n",
       "top     Braund, Mr. Owen Harris  male  347082        S\n",
       "freq                          1   577       7      644"
      ]
     },
     "execution_count": 17,
     "metadata": {},
     "output_type": "execute_result"
    }
   ],
   "source": [
    "#Summary of the categorical variables\n",
    "categorical = df.dtypes[df.dtypes == \"object\"].index\n",
    "print(categorical)\n",
    "\n",
    "df[categorical].describe()"
   ]
  },
  {
   "cell_type": "markdown",
   "id": "e5ad2e61",
   "metadata": {},
   "source": [
    "### Exploring the name variable"
   ]
  },
  {
   "cell_type": "code",
   "execution_count": 18,
   "id": "c612e136",
   "metadata": {},
   "outputs": [
    {
     "data": {
      "text/plain": [
       "['Abbing, Mr. Anthony',\n",
       " 'Abbott, Mr. Rossmore Edward',\n",
       " 'Abbott, Mrs. Stanton (Rosa Hunt)',\n",
       " 'Abelson, Mr. Samuel',\n",
       " 'Abelson, Mrs. Samuel (Hannah Wizosky)',\n",
       " 'Adahl, Mr. Mauritz Nils Martin',\n",
       " 'Adams, Mr. John',\n",
       " 'Ahlin, Mrs. Johan (Johanna Persdotter Larsson)',\n",
       " 'Aks, Mrs. Sam (Leah Rosen)',\n",
       " 'Albimona, Mr. Nassef Cassem',\n",
       " 'Alexander, Mr. William',\n",
       " 'Alhomaki, Mr. Ilmari Rudolf',\n",
       " 'Ali, Mr. Ahmed',\n",
       " 'Ali, Mr. William',\n",
       " 'Allen, Miss. Elisabeth Walton']"
      ]
     },
     "execution_count": 18,
     "metadata": {},
     "output_type": "execute_result"
    }
   ],
   "source": [
    "#sorting names\n",
    "sorted(df[\"Name\"])[0:15]"
   ]
  },
  {
   "cell_type": "code",
   "execution_count": 19,
   "id": "964f7592",
   "metadata": {},
   "outputs": [
    {
     "data": {
      "text/plain": [
       "count                         891\n",
       "unique                        891\n",
       "top       Braund, Mr. Owen Harris\n",
       "freq                            1\n",
       "Name: Name, dtype: object"
      ]
     },
     "execution_count": 19,
     "metadata": {},
     "output_type": "execute_result"
    }
   ],
   "source": [
    "#name variable summary\n",
    "df[\"Name\"].describe()"
   ]
  },
  {
   "cell_type": "markdown",
   "id": "04e4d097",
   "metadata": {},
   "source": [
    "The output shows that there are 418 unique names starting with Mr. Owen Harris Braund"
   ]
  },
  {
   "cell_type": "markdown",
   "id": "1368d677",
   "metadata": {},
   "source": [
    "### Exploring the sex (Gender) distribution"
   ]
  },
  {
   "cell_type": "code",
   "execution_count": 20,
   "id": "b5838df4",
   "metadata": {},
   "outputs": [
    {
     "data": {
      "text/plain": [
       "array(['male', 'female'], dtype=object)"
      ]
     },
     "execution_count": 20,
     "metadata": {},
     "output_type": "execute_result"
    }
   ],
   "source": [
    "#uniqueness of the Sex variable\n",
    "df[\"Sex\"].unique()\n",
    "#df[\"Sex\"].value_counts()"
   ]
  },
  {
   "cell_type": "code",
   "execution_count": 21,
   "id": "52743d9a",
   "metadata": {},
   "outputs": [
    {
     "name": "stdout",
     "output_type": "stream",
     "text": [
      "male      577\n",
      "female    314\n",
      "Name: Sex, dtype: int64\n"
     ]
    },
    {
     "data": {
      "image/png": "[encoded data removed]",
      "text/plain": [
       "<Figure size 640x480 with 1 Axes>"
      ]
     },
     "metadata": {},
     "output_type": "display_data"
    }
   ],
   "source": [
    "# Calculate the count of each Gender category\n",
    "Gender_counts = df['Sex'].value_counts()\n",
    "print(Gender_counts)\n",
    "# visualizing gender distribution using a bar chart\n",
    "sns.barplot(x=Gender_counts.index, y=Gender_counts.values, palette=['blue', 'pink'])\n",
    "plt.xlabel('Gender')\n",
    "plt.ylabel('Count')\n",
    "plt.title('Distribution of Gender')\n",
    "plt.xticks(ticks=[0, 1], labels=['Male', 'Female'])\n",
    "plt.show()\n"
   ]
  },
  {
   "cell_type": "markdown",
   "id": "c4f5bc2c",
   "metadata": {},
   "source": [
    "Out of the 418 sampled passengers, 577 were men and 314 were women"
   ]
  },
  {
   "cell_type": "markdown",
   "id": "de2b8548",
   "metadata": {},
   "source": [
    "### Exploring the passengers  class"
   ]
  },
  {
   "cell_type": "code",
   "execution_count": 22,
   "id": "8392c813",
   "metadata": {},
   "outputs": [
    {
     "name": "stdout",
     "output_type": "stream",
     "text": [
      "3    491\n",
      "1    216\n",
      "2    184\n",
      "Name: Pclass, dtype: int64\n"
     ]
    }
   ],
   "source": [
    "#displaying the type and total number of ticket classes purchased by the 418 passenges of the titanic ship  \n",
    "df[\"Pclass\"].unique()\n",
    "\n",
    "pc = df[\"Pclass\"].value_counts()\n",
    "print(pc)"
   ]
  },
  {
   "cell_type": "markdown",
   "id": "9a3c691a",
   "metadata": {},
   "source": [
    "According to the output:\n",
    "216 passengers purchased the first class ticket,\n",
    "184 passengers purchased the second class ticket and\n",
    "491 passengers purchased the third class ticket as shown in the graph below"
   ]
  },
  {
   "cell_type": "code",
   "execution_count": 25,
   "id": "e08b6be4",
   "metadata": {},
   "outputs": [
    {
     "data": {
      "image/png": "[encoded data removed]",
      "text/plain": [
       "<Figure size 640x480 with 1 Axes>"
      ]
     },
     "metadata": {},
     "output_type": "display_data"
    }
   ],
   "source": [
    "# visualizing the distribution of Passenger class list using a bar chart\n",
    "sns.barplot(x=pc.index, y=pc.values, palette=['Maroon', 'Gold', 'Tomato'])\n",
    "plt.xlabel('Social Class')\n",
    "plt.ylabel('Count')\n",
    "plt.title('Distribution of Passenger class list')\n",
    "plt.xticks(ticks=[0, 1, 2], labels=['1', '2', '3'])\n",
    "plt.show()\n"
   ]
  },
  {
   "cell_type": "markdown",
   "id": "7dfec630",
   "metadata": {},
   "source": [
    "### Exploring the age group variable "
   ]
  },
  {
   "cell_type": "code",
   "execution_count": 26,
   "id": "cbf975f9",
   "metadata": {},
   "outputs": [
    {
     "name": "stdout",
     "output_type": "stream",
     "text": [
      "the mean value for the age variable is 29.69911764705882\n",
      "the modal age is 0    29.699118\n",
      "Name: Age, dtype: float64\n",
      "the median value for the age variable is  29.69911764705882\n"
     ]
    }
   ],
   "source": [
    "x = df[\"Age\"].mean()\n",
    "y = df[\"Age\"].mode()\n",
    "z = df[\"Age\"].median()\n",
    "print(\"the mean value for the age variable is\", x)\n",
    "print(\"the modal age is\", y)\n",
    "print(\"the median value for the age variable is \", z)"
   ]
  },
  {
   "cell_type": "code",
   "execution_count": 27,
   "id": "e6dd8262",
   "metadata": {},
   "outputs": [
    {
     "name": "stdout",
     "output_type": "stream",
     "text": [
      "132 out of the 891 sampled passengers were young i.e 1 to 18 years\n",
      "649 out of the 891 sampled passengers were youth i.e 19 to 45 years old\n",
      "101 out of the 891 sampled passengers were old people i.e 46 to 100 years old\n"
     ]
    }
   ],
   "source": [
    "#Age group count\n",
    "young = df['Age'].between(1, 18).sum()\n",
    "youth = df['Age'].between(19, 45).sum()\n",
    "old = df['Age'].between(46, 100).sum()\n",
    "\n",
    "print(f\"{young} out of the {len(df)} sampled passengers were young i.e 1 to 18 years\")\n",
    "print(f\"{youth} out of the {len(df)} sampled passengers were youth i.e 19 to 45 years old\")\n",
    "print(f\"{old} out of the {len(df)} sampled passengers were old people i.e 46 to 100 years old\")"
   ]
  },
  {
   "cell_type": "code",
   "execution_count": 28,
   "id": "b2a4400c",
   "metadata": {},
   "outputs": [
    {
     "name": "stdout",
     "output_type": "stream",
     "text": [
      "The oldest passenger among the 891 sampled passengers on the ship was 80.0\n",
      "The youngest passenger among the 891 sampled passengers on the ship was 0.42\n"
     ]
    }
   ],
   "source": [
    "#who was the oldest passenger aboard the ship?\n",
    "oldest = df[\"Age\"].max()\n",
    "youngest = df[\"Age\"].min()\n",
    "print(f\"The oldest passenger among the {len(df)} sampled passengers on the ship was {oldest}\")\n",
    "print(f\"The youngest passenger among the {len(df)} sampled passengers on the ship was {youngest}\")"
   ]
  },
  {
   "cell_type": "code",
   "execution_count": 33,
   "id": "70e7d9cb",
   "metadata": {
    "scrolled": false
   },
   "outputs": [
    {
     "data": {
      "image/png": "[encoded data removed]",
      "text/plain": [
       "<Figure size 640x480 with 1 Axes>"
      ]
     },
     "metadata": {},
     "output_type": "display_data"
    }
   ],
   "source": [
    "# Plot a bar chart\n",
    "age_groups = ['Young', 'Youth', 'Old']\n",
    "counts = [young, youth, old]\n",
    "\n",
    "plt.bar(age_groups, counts, color=['aqua', 'gray', 'teal'])\n",
    "plt.xlabel('Age Group')\n",
    "plt.ylabel('Count')\n",
    "plt.title('Age Group Distribution')\n",
    "plt.show()\n"
   ]
  },
  {
   "cell_type": "markdown",
   "id": "fa443c4b",
   "metadata": {},
   "source": [
    "###  Exploring the Survived variable"
   ]
  },
  {
   "cell_type": "code",
   "execution_count": 34,
   "id": "1ab74d7d",
   "metadata": {
    "scrolled": true
   },
   "outputs": [
    {
     "name": "stdout",
     "output_type": "stream",
     "text": [
      "0    549\n",
      "1    342\n",
      "Name: Survived, dtype: int64\n"
     ]
    }
   ],
   "source": [
    "#Total number of unique records from the survived variable\n",
    "df[\"Survived\"].unique()\n",
    "survival_count = df[\"Survived\"].value_counts()\n",
    "print(survival_count)"
   ]
  },
  {
   "cell_type": "markdown",
   "id": "d3f0239c",
   "metadata": {},
   "source": [
    "The results shows that, out of the 891 passengers, 549 passengers died while 342 survived as represented on the graph below"
   ]
  },
  {
   "cell_type": "code",
   "execution_count": 37,
   "id": "a68b8f93",
   "metadata": {},
   "outputs": [
    {
     "data": {
      "image/png": "[encoded data removed]",
      "text/plain": [
       "<Figure size 640x480 with 1 Axes>"
      ]
     },
     "metadata": {},
     "output_type": "display_data"
    }
   ],
   "source": [
    "# visualizing the distribution of survived list using a bar chart\n",
    "sns.barplot(x=survival_count.index, y=survival_count.values, palette=['red', 'green'])\n",
    "plt.xlabel('Survived')\n",
    "plt.ylabel('Count')\n",
    "plt.title('Distribution of survival list')\n",
    "plt.xticks(ticks=[0, 1], labels=['No', 'Yes'])\n",
    "plt.show()\n"
   ]
  },
  {
   "cell_type": "markdown",
   "id": "51b77612",
   "metadata": {},
   "source": [
    "### Survived distribution by age group (Young, Youth, and Old)"
   ]
  },
  {
   "cell_type": "code",
   "execution_count": 45,
   "id": "5d275152",
   "metadata": {
    "scrolled": false
   },
   "outputs": [
    {
     "name": "stdout",
     "output_type": "stream",
     "text": [
      "52 out of 113 in Young did not survive\n",
      "61 out of 113 in Young survived\n",
      "425 out of 663 in Youth did not survive\n",
      "238 out of 663 in Youth survived\n",
      "72 out of 115 in Old did not survive\n",
      "43 out of 115 in Old survived\n",
      "Total number of youth that survived: 238\n"
     ]
    },
    {
     "data": {
      "image/png": "[encoded data removed]",
      "text/plain": [
       "<Figure size 640x480 with 1 Axes>"
      ]
     },
     "metadata": {},
     "output_type": "display_data"
    }
   ],
   "source": [
    "bins = [0, 18, 45, 100]\n",
    "labels = ['Young', 'Youth', 'Old']\n",
    "\n",
    "# Create Age Group column\n",
    "df['AgeGroup'] = pd.cut(df['Age'], bins=bins, labels=labels, right=False)\n",
    "\n",
    "# Group by Age Group and Survived, then count occurrences\n",
    "age_survival_counts = df.groupby(['AgeGroup', 'Survived']).size().unstack(fill_value=0)\n",
    "\n",
    "# Print counts\n",
    "for age_group in labels:\n",
    "    not_survived_count = age_survival_counts.loc[age_group, 0]\n",
    "    survived_count = age_survival_counts.loc[age_group, 1]\n",
    "    total_count = not_survived_count + survived_count\n",
    "    print(f\"{not_survived_count} out of {total_count} in {age_group} did not survive\")\n",
    "    print(f\"{survived_count} out of {total_count} in {age_group} survived\")\n",
    "\n",
    "# Access and print the total number of youth that survived\n",
    "youth_survived_count = age_survival_counts.loc['Youth', 1]\n",
    "print(f\"Total number of youth that survived: {youth_survived_count}\")\n",
    "\n",
    "# Plot a stacked bar chart\n",
    "age_survival_counts.plot(kind='bar', stacked=False, color=['red', 'green'])\n",
    "plt.xlabel('Age Group')\n",
    "plt.ylabel('Count')\n",
    "plt.title('Survival Status by Age Group')\n",
    "plt.legend(['Not Survived', 'Survived'])\n",
    "plt.show()\n"
   ]
  },
  {
   "cell_type": "markdown",
   "id": "2ac8ba49",
   "metadata": {},
   "source": [
    "### Survived distribution by  gender "
   ]
  },
  {
   "cell_type": "code",
   "execution_count": 44,
   "id": "fb500740",
   "metadata": {},
   "outputs": [
    {
     "name": "stdout",
     "output_type": "stream",
     "text": [
      "468 out of 577 male did not survive\n",
      "109 out of 577 male survived\n",
      "81 out of 314 female did not survive\n",
      "233 out of 314 female survived\n",
      "Total number of men that survived: 109\n",
      "Total number of women that survived: 233\n"
     ]
    },
    {
     "data": {
      "image/png": "[encoded data removed]",
      "text/plain": [
       "<Figure size 640x480 with 1 Axes>"
      ]
     },
     "metadata": {},
     "output_type": "display_data"
    }
   ],
   "source": [
    "# Assuming you have a DataFrame called df with 'Age', 'Survived', 'Sex' columns\n",
    "bins = [0, 18, 45, 100]\n",
    "labels = ['Young', 'Youth', 'Old']\n",
    "\n",
    "# Group by Age Group, Sex, and Survived, then count occurrences\n",
    "grouped_counts = df.groupby(['Sex', 'Survived']).size().unstack(fill_value=0)\n",
    "\n",
    "# Print counts\n",
    "for sex in df['Sex'].unique():\n",
    "    not_survived_count = grouped_counts.loc[sex, 0]\n",
    "    survived_count = grouped_counts.loc[sex, 1]\n",
    "    total_count = not_survived_count + survived_count\n",
    "    print(f\"{not_survived_count} out of {total_count} {sex} did not survive\")\n",
    "    print(f\"{survived_count} out of {total_count} {sex} survived\")\n",
    "\n",
    "# Access and print the total number of men that survived\n",
    "men_survived_count = grouped_counts.loc['male', 1]\n",
    "print(f\"Total number of men that survived: {men_survived_count}\")\n",
    "\n",
    "# Access and print the total number of women that survived\n",
    "women_survived_count = grouped_counts.loc['female', 1]\n",
    "print(f\"Total number of women that survived: {women_survived_count}\")\n",
    "\n",
    "# Plot a stacked bar chart\n",
    "grouped_counts.loc[:, [0, 1]].plot(kind='bar', stacked=False, color=['red', 'green'])\n",
    "plt.xlabel('Sex')\n",
    "plt.ylabel('Count')\n",
    "plt.title('Survival Status by Sex')\n",
    "plt.legend(['Not Survived', 'Survived'], title='Survival Status')\n",
    "plt.show()\n"
   ]
  },
  {
   "cell_type": "markdown",
   "id": "262946de",
   "metadata": {},
   "source": [
    "### Survived distribution by gender and social class "
   ]
  },
  {
   "cell_type": "code",
   "execution_count": 43,
   "id": "7b6eadb9",
   "metadata": {
    "scrolled": false
   },
   "outputs": [
    {
     "name": "stdout",
     "output_type": "stream",
     "text": [
      "300 out of 347 male in class 3 did not survive\n",
      "47 out of 347 male in cclass 3 survived\n",
      "72 out of 144 female in class 3 did not survive\n",
      "72 out of 144 female in cclass 3 survived\n",
      "77 out of 122 male in class 1 did not survive\n",
      "45 out of 122 male in cclass 1 survived\n",
      "3 out of 94 female in class 1 did not survive\n",
      "91 out of 94 female in cclass 1 survived\n",
      "91 out of 108 male in class 2 did not survive\n",
      "17 out of 108 male in cclass 2 survived\n",
      "6 out of 76 female in class 2 did not survive\n",
      "70 out of 76 female in cclass 2 survived\n",
      "Total number of men that survived in class 3: 47\n",
      "Total number of men that survived in class 1: 45\n",
      "Total number of men that survived in class 2: 17\n",
      "Total number of women that survived in class 3: 72\n",
      "Total number of women that survived in class 1: 91\n",
      "Total number of women that survived in class 2: 70\n"
     ]
    },
    {
     "data": {
      "image/png": "[encoded data removed]",
      "text/plain": [
       "<Figure size 640x480 with 1 Axes>"
      ]
     },
     "metadata": {},
     "output_type": "display_data"
    }
   ],
   "source": [
    "# Group by Pclass, Sex, and Survived, then count occurrences\n",
    "grouped_counts_pclass = df.groupby(['Pclass', 'Sex', 'Survived']).size().unstack(fill_value=0)\n",
    "\n",
    "# Print counts\n",
    "for pclass in df['Pclass'].unique():\n",
    "    for sex in df['Sex'].unique():\n",
    "        not_survived_count = grouped_counts_pclass.loc[(pclass, sex), 0]\n",
    "        survived_count = grouped_counts_pclass.loc[(pclass, sex), 1]\n",
    "        total_count = not_survived_count + survived_count\n",
    "        print(f\"{not_survived_count} out of {total_count} {sex} in class {pclass} did not survive\")\n",
    "        print(f\"{survived_count} out of {total_count} {sex} in cclass {pclass} survived\")\n",
    "\n",
    "# Access and print the total number of men that survived in each class\n",
    "for pclass in df['Pclass'].unique():\n",
    "    men_survived_count = grouped_counts_pclass.loc[(pclass, 'male'), 1]\n",
    "    print(f\"Total number of men that survived in class {pclass}: {men_survived_count}\")\n",
    "\n",
    "# Access and print the total number of women that survived in each class\n",
    "for pclass in df['Pclass'].unique():\n",
    "    women_survived_count = grouped_counts_pclass.loc[(pclass, 'female'), 1]\n",
    "    print(f\"Total number of women that survived in class {pclass}: {women_survived_count}\")\n",
    "\n",
    "# Plot a stacked bar chart\n",
    "#grouped_counts_pclass.loc[:, [0, 1]].unstack().plot(kind='bar', stacked=True, color=['red', 'green'])\n",
    "#plt.xlabel('Gender and Social class')\n",
    "#plt.ylabel('Count')\n",
    "#plt.title('Survival Status by Passenger Class and Gender')\n",
    "#plt.legend(['Not Survived', 'Survived'], title='Survival Status')\n",
    "#plt.show()\n",
    "\n",
    "\n",
    "# Group by Pclass, Sex, and Survived, then count occurrences\n",
    "#grouped_counts_pclass = df.groupby(['Pclass', 'Sex', 'Survived']).size().unstack(fill_value=0)\n",
    "\n",
    "# Plot a stacked bar chart\n",
    "ax = grouped_counts_pclass.loc[:, [0, 1]].unstack().plot(kind='bar', stacked=False, color=['black', 'red', 'yellow', 'pink'])\n",
    "plt.xlabel('Passenger class and Gender')\n",
    "plt.ylabel('Count')\n",
    "plt.title('Survival Status by Passenger Class and Gender')\n",
    "plt.legend(['Men - Not Survived', 'Men - Survived', 'Women - Not Survived', 'Women - Survived'], title='Survival Status')\n",
    "plt.show()\n"
   ]
  },
  {
   "cell_type": "code",
   "execution_count": 42,
   "id": "190c1479",
   "metadata": {},
   "outputs": [
    {
     "name": "stdout",
     "output_type": "stream",
     "text": [
      "372 out of 491 in 3 class did not survive\n",
      "119 out of 491 in 3 class survived\n",
      "80 out of 216 in 1 class did not survive\n",
      "136 out of 216 in 1 class survived\n",
      "97 out of 184 in 2 class did not survive\n",
      "87 out of 184 in 2 class survived\n",
      "Total number of passengers that survived in  3class: 119\n",
      "Total number of passengers that survived in  1class: 136\n",
      "Total number of passengers that survived in  2class: 87\n"
     ]
    },
    {
     "data": {
      "image/png": "[encoded data removed]",
      "text/plain": [
       "<Figure size 640x480 with 1 Axes>"
      ]
     },
     "metadata": {},
     "output_type": "display_data"
    }
   ],
   "source": [
    "# Group by Pclass and Survived, then count occurrences\n",
    "grouped_counts_pclass = df.groupby(['Pclass', 'Survived']).size().unstack(fill_value=0)\n",
    "\n",
    "# Print counts\n",
    "for pclass in df['Pclass'].unique():\n",
    "    not_survived_count = grouped_counts_pclass.loc[pclass, 0]\n",
    "    survived_count = grouped_counts_pclass.loc[pclass, 1]\n",
    "    total_count = not_survived_count + survived_count\n",
    "    print(f\"{not_survived_count} out of {total_count} in {pclass} class did not survive\")\n",
    "    print(f\"{survived_count} out of {total_count} in {pclass} class survived\")\n",
    "\n",
    "# Access and print the total number of passengers that survived in each class\n",
    "for pclass in df['Pclass'].unique():\n",
    "    total_survived_count = grouped_counts_pclass.loc[pclass, 1]\n",
    "    print(f\"Total number of passengers that survived in  {pclass}class: {total_survived_count}\")\n",
    "\n",
    "# Plot a stacked bar chart\n",
    "grouped_counts_pclass.plot(kind='bar', stacked=False, color=['red', 'green'])\n",
    "plt.xlabel('Pclass')\n",
    "plt.ylabel('Count')\n",
    "plt.title('Survival Status by Passenger Class')\n",
    "plt.legend(['Not Survived', 'Survived'], title='Survival Status')\n",
    "plt.show()\n"
   ]
  },
  {
   "cell_type": "code",
   "execution_count": null,
   "id": "a4e60947",
   "metadata": {},
   "outputs": [],
   "source": [
    "import matplotlib.pyplot as plt\n",
    "\n",
    "# Group by Pclass, Sex, and Survived, then count occurrences\n",
    "grouped_counts_pclass = df.groupby(['Pclass', 'Sex', 'Survived']).size().unstack(fill_value=0)\n",
    "\n",
    "# Unstack the data for each survival status\n",
    "unstacked_data = grouped_counts_pclass.unstack().unstack()\n",
    "\n",
    "# Plot a bar chart\n",
    "ax = unstacked_data.plot(kind='bar', color=['black', 'red', 'yellow', 'pink'], stacked=True)\n",
    "plt.xlabel('Social class and Gender')\n",
    "plt.ylabel('Count')\n",
    "plt.title('Survival Status by Passenger Class and Gender')\n",
    "plt.legend(['Men - Not Survived', 'Men - Survived', 'Women - Not Survived', 'Women - Survived'], title='Survival Status')\n",
    "plt.show()\n"
   ]
  }
 ],
 "metadata": {
  "kernelspec": {
   "display_name": "Python 3 (ipykernel)",
   "language": "python",
   "name": "python3"
  },
  "language_info": {
   "codemirror_mode": {
    "name": "ipython",
    "version": 3
   },
   "file_extension": ".py",
   "mimetype": "text/x-python",
   "name": "python",
   "nbconvert_exporter": "python",
   "pygments_lexer": "ipython3",
   "version": "3.10.9"
  }
 },
 "nbformat": 4,
 "nbformat_minor": 5
}
